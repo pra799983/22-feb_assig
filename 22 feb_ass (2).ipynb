{
 "cells": [
  {
   "cell_type": "code",
   "execution_count": null,
   "id": "baa4837d-e5db-4a53-ab37-4dbe6737d1d7",
   "metadata": {},
   "outputs": [],
   "source": [
    "Q1. Create a Pandas Series that contains the following data: 4, 8, 15, 16, 23, and 42. Then, print the series"
   ]
  },
  {
   "cell_type": "code",
   "execution_count": 2,
   "id": "64882b4d-cf8d-49da-bac9-6c692cd1a042",
   "metadata": {},
   "outputs": [
    {
     "name": "stdout",
     "output_type": "stream",
     "text": [
      "0     4\n",
      "1     8\n",
      "2    15\n",
      "3    16\n",
      "4    23\n",
      "5    42\n",
      "dtype: int64\n"
     ]
    }
   ],
   "source": [
    "import pandas as pd\n",
    "data = [4,8,15,16,23,42]\n",
    "series = pd.Series(data)\n",
    "print(series)"
   ]
  },
  {
   "cell_type": "code",
   "execution_count": null,
   "id": "9dd1437c-4b25-4a81-8ea5-cb2ee0aa4715",
   "metadata": {},
   "outputs": [],
   "source": [
    "Q2. Create a variable of list type containing 10 elements in it, and apply pandas.Series function on the\n",
    "variable print it."
   ]
  },
  {
   "cell_type": "code",
   "execution_count": 3,
   "id": "7a34d476-5f8b-465c-88ea-73b193be50d3",
   "metadata": {},
   "outputs": [
    {
     "name": "stdout",
     "output_type": "stream",
     "text": [
      "0     4\n",
      "1     8\n",
      "2    15\n",
      "3    16\n",
      "4    23\n",
      "5    42\n",
      "6    14\n",
      "7    15\n",
      "8    16\n",
      "9    18\n",
      "dtype: int64\n"
     ]
    }
   ],
   "source": [
    "import pandas as pd\n",
    "list = [4,8,15,16,23,42,14,15,16,18]\n",
    "series = pd.Series(list)\n",
    "print(series)"
   ]
  },
  {
   "cell_type": "code",
   "execution_count": null,
   "id": "6c41edac-714d-4029-803f-35ecda6e10b5",
   "metadata": {},
   "outputs": [],
   "source": [
    "Q3. Create a Pandas DataFrame that contains the following data:\n",
    "Then, print the DataFrame."
   ]
  },
  {
   "cell_type": "code",
   "execution_count": 8,
   "id": "38608afc-c5ad-40bd-8506-b7b8cba20755",
   "metadata": {},
   "outputs": [],
   "source": [
    "import pandas as pd\n",
    "data = pd.DataFrame({'name':['Alice','Bob','pradeep'],\n",
    "                     'Age':[25,30,27],\n",
    "                     'Gender':['female','male','female']})\n"
   ]
  },
  {
   "cell_type": "code",
   "execution_count": 9,
   "id": "c1e7f8d3-ffd4-4af6-8ac0-0794b508db85",
   "metadata": {},
   "outputs": [
    {
     "data": {
      "text/html": [
       "<div>\n",
       "<style scoped>\n",
       "    .dataframe tbody tr th:only-of-type {\n",
       "        vertical-align: middle;\n",
       "    }\n",
       "\n",
       "    .dataframe tbody tr th {\n",
       "        vertical-align: top;\n",
       "    }\n",
       "\n",
       "    .dataframe thead th {\n",
       "        text-align: right;\n",
       "    }\n",
       "</style>\n",
       "<table border=\"1\" class=\"dataframe\">\n",
       "  <thead>\n",
       "    <tr style=\"text-align: right;\">\n",
       "      <th></th>\n",
       "      <th>name</th>\n",
       "      <th>Age</th>\n",
       "      <th>Gender</th>\n",
       "    </tr>\n",
       "  </thead>\n",
       "  <tbody>\n",
       "    <tr>\n",
       "      <th>0</th>\n",
       "      <td>Alice</td>\n",
       "      <td>25</td>\n",
       "      <td>female</td>\n",
       "    </tr>\n",
       "    <tr>\n",
       "      <th>1</th>\n",
       "      <td>Bob</td>\n",
       "      <td>30</td>\n",
       "      <td>male</td>\n",
       "    </tr>\n",
       "    <tr>\n",
       "      <th>2</th>\n",
       "      <td>pradeep</td>\n",
       "      <td>27</td>\n",
       "      <td>female</td>\n",
       "    </tr>\n",
       "  </tbody>\n",
       "</table>\n",
       "</div>"
      ],
      "text/plain": [
       "      name  Age  Gender\n",
       "0    Alice   25  female\n",
       "1      Bob   30    male\n",
       "2  pradeep   27  female"
      ]
     },
     "execution_count": 9,
     "metadata": {},
     "output_type": "execute_result"
    }
   ],
   "source": [
    "data"
   ]
  },
  {
   "cell_type": "code",
   "execution_count": null,
   "id": "ff73a20c-064d-4aa6-a2d5-e2b430f3f14a",
   "metadata": {},
   "outputs": [],
   "source": [
    "Q4. What is ‘DataFrame’ in pandas and how is it different from pandas.series? Explain with an example."
   ]
  },
  {
   "cell_type": "code",
   "execution_count": null,
   "id": "0e529eb8-7137-4d7f-9fd5-573c3be84850",
   "metadata": {},
   "outputs": [],
   "source": [
    "In pandas, a DataFrame is a 2-dimensional labeled data structure that represents tabular data, similar to a spreadsheet or a SQL table. \n",
    "It consists of rows and columns, where each column can contain different types of data (e.g., numeric, string, boolean) and has a unique label\n",
    "\n",
    "called a column name. A DataFrame provides a convenient way to store, manipulate, and analyze structured data.\n",
    "\n",
    "a Series is a one-dimensional labeled array-like object in pandas. It represents a single column of data in a DataFrame. \n",
    "A Series is similar to a NumPy array but with additional functionalities and the ability to have custom row labels called an index. Each element\n",
    "in a Series can have a different data type, and the elements are labeled with an index, allowing for efficient data access and alignment."
   ]
  },
  {
   "cell_type": "code",
   "execution_count": 15,
   "id": "7c51a5dd-05a4-4cf5-b528-ab2372de60a4",
   "metadata": {},
   "outputs": [
    {
     "name": "stdout",
     "output_type": "stream",
     "text": [
      "Dataframe: \n"
     ]
    },
    {
     "data": {
      "text/html": [
       "<div>\n",
       "<style scoped>\n",
       "    .dataframe tbody tr th:only-of-type {\n",
       "        vertical-align: middle;\n",
       "    }\n",
       "\n",
       "    .dataframe tbody tr th {\n",
       "        vertical-align: top;\n",
       "    }\n",
       "\n",
       "    .dataframe thead th {\n",
       "        text-align: right;\n",
       "    }\n",
       "</style>\n",
       "<table border=\"1\" class=\"dataframe\">\n",
       "  <thead>\n",
       "    <tr style=\"text-align: right;\">\n",
       "      <th></th>\n",
       "      <th>name</th>\n",
       "      <th>Age</th>\n",
       "      <th>Gender</th>\n",
       "    </tr>\n",
       "  </thead>\n",
       "  <tbody>\n",
       "    <tr>\n",
       "      <th>0</th>\n",
       "      <td>Alice</td>\n",
       "      <td>25</td>\n",
       "      <td>female</td>\n",
       "    </tr>\n",
       "    <tr>\n",
       "      <th>1</th>\n",
       "      <td>Bob</td>\n",
       "      <td>30</td>\n",
       "      <td>male</td>\n",
       "    </tr>\n",
       "    <tr>\n",
       "      <th>2</th>\n",
       "      <td>pradeep</td>\n",
       "      <td>27</td>\n",
       "      <td>female</td>\n",
       "    </tr>\n",
       "  </tbody>\n",
       "</table>\n",
       "</div>"
      ],
      "text/plain": [
       "      name  Age  Gender\n",
       "0    Alice   25  female\n",
       "1      Bob   30    male\n",
       "2  pradeep   27  female"
      ]
     },
     "execution_count": 15,
     "metadata": {},
     "output_type": "execute_result"
    }
   ],
   "source": [
    "print('Dataframe: ')\n",
    "import pandas as pd\n",
    "data = pd.DataFrame({'name':['Alice','Bob','pradeep'],\n",
    "                     'Age':[25,30,27],\n",
    "                     'Gender':['female','male','female']})\n",
    "data"
   ]
  },
  {
   "cell_type": "code",
   "execution_count": 17,
   "id": "86d7b397-1c35-4f4e-9fd0-1f7ff4c70dda",
   "metadata": {},
   "outputs": [
    {
     "name": "stdout",
     "output_type": "stream",
     "text": [
      "Series: \n"
     ]
    },
    {
     "data": {
      "text/plain": [
       "0    24\n",
       "1    15\n",
       "2    12\n",
       "3    16\n",
       "dtype: int64"
      ]
     },
     "execution_count": 17,
     "metadata": {},
     "output_type": "execute_result"
    }
   ],
   "source": [
    "print('Series: ')\n",
    "age_of_student = [24,15,12,16]\n",
    "series = pd.Series(age_of_student)\n",
    "series"
   ]
  },
  {
   "cell_type": "code",
   "execution_count": null,
   "id": "ebf2a3bc-605f-4457-9e4a-57ee4fc360f7",
   "metadata": {},
   "outputs": [],
   "source": [
    "Q5. What are some common functions you can use to manipulate data in a Pandas DataFrame? Can\n",
    "you give an example of when you might use one of these functions?"
   ]
  },
  {
   "cell_type": "code",
   "execution_count": null,
   "id": "58377247-7590-4179-92b5-820edfcb3568",
   "metadata": {},
   "outputs": [],
   "source": [
    "df.head()\n",
    "df.tail()\n",
    "df.info\n",
    "df.describe()\n",
    "df.sort_values('column_name', ascending=False)  \n",
    "df.groupby('column_name').mean()\n",
    "df.groupby('column_name').std()"
   ]
  },
  {
   "cell_type": "code",
   "execution_count": null,
   "id": "ec86fd8d-1423-4a57-b5d2-e2cdf3a6d6ae",
   "metadata": {},
   "outputs": [],
   "source": [
    "Q6. Which of the following is mutable in nature Series, DataFrame, Panel?"
   ]
  },
  {
   "cell_type": "code",
   "execution_count": null,
   "id": "373b1ca5-b2b9-4335-811f-b1ccfbcbc1af",
   "metadata": {},
   "outputs": [],
   "source": [
    "In pandas, both Series and DataFrame are mutable, meaning their values can be modified after creation. However, Panel objects are considered \n",
    "deprecated in recent versions of pandas and have been replaced by other data structures like MultiIndex and 3D arrays. Therefore, Panels are not \n",
    "considered as part of the core pandas data structures anymore.\n",
    "\n",
    "To summarize:\n",
    "\n",
    "Series: Mutable. You can modify the values of a Series by assigning new values to specific elements or using methods like loc or at to update\n",
    "values based on labels or indices.\n",
    "\n",
    "DataFrame: Mutable. You can modify DataFrame values by assigning new values to specific cells, adding or removing columns, or using methods like \n",
    "loc or at to update values based on labels or indices.\n",
    "\n",
    "Panel: Deprecated. Panel objects were mutable in previous versions of pandas, but they are no longer actively used or recommended. It is better to \n",
    "use other data structures like MultiIndex or 3D arrays to handle similar scenarios."
   ]
  },
  {
   "cell_type": "code",
   "execution_count": null,
   "id": "81f966ea-9897-4b0a-8624-4898fc269786",
   "metadata": {},
   "outputs": [],
   "source": [
    "Q7. Create a DataFrame using multiple Series. Explain with an example"
   ]
  },
  {
   "cell_type": "code",
   "execution_count": 26,
   "id": "11e18e54-7012-482c-b2ab-91760be71e9b",
   "metadata": {},
   "outputs": [
    {
     "data": {
      "text/html": [
       "<div>\n",
       "<style scoped>\n",
       "    .dataframe tbody tr th:only-of-type {\n",
       "        vertical-align: middle;\n",
       "    }\n",
       "\n",
       "    .dataframe tbody tr th {\n",
       "        vertical-align: top;\n",
       "    }\n",
       "\n",
       "    .dataframe thead th {\n",
       "        text-align: right;\n",
       "    }\n",
       "</style>\n",
       "<table border=\"1\" class=\"dataframe\">\n",
       "  <thead>\n",
       "    <tr style=\"text-align: right;\">\n",
       "      <th></th>\n",
       "      <th>Name</th>\n",
       "      <th>Age</th>\n",
       "      <th>City</th>\n",
       "    </tr>\n",
       "  </thead>\n",
       "  <tbody>\n",
       "    <tr>\n",
       "      <th>0</th>\n",
       "      <td>pradeep</td>\n",
       "      <td>24</td>\n",
       "      <td>Kharagpur</td>\n",
       "    </tr>\n",
       "    <tr>\n",
       "      <th>1</th>\n",
       "      <td>yati</td>\n",
       "      <td>23</td>\n",
       "      <td>Indore</td>\n",
       "    </tr>\n",
       "    <tr>\n",
       "      <th>2</th>\n",
       "      <td>siwani</td>\n",
       "      <td>25</td>\n",
       "      <td>Raipur</td>\n",
       "    </tr>\n",
       "    <tr>\n",
       "      <th>3</th>\n",
       "      <td>sanju</td>\n",
       "      <td>24</td>\n",
       "      <td>Bhind</td>\n",
       "    </tr>\n",
       "  </tbody>\n",
       "</table>\n",
       "</div>"
      ],
      "text/plain": [
       "      Name  Age       City\n",
       "0  pradeep   24  Kharagpur\n",
       "1     yati   23     Indore\n",
       "2   siwani   25     Raipur\n",
       "3    sanju   24      Bhind"
      ]
     },
     "execution_count": 26,
     "metadata": {},
     "output_type": "execute_result"
    }
   ],
   "source": [
    "import pandas as pd\n",
    "name = pd.Series(['pradeep','yati','siwani','sanju'])\n",
    "age = pd.Series([24,23,25,24])\n",
    "city = pd.Series(['Kharagpur','Indore','Raipur','Bhind'])\n",
    "data = {'Name':name,'Age':age,'City':city}\n",
    "df = pd.DataFrame(data)\n",
    "df"
   ]
  },
  {
   "cell_type": "code",
   "execution_count": null,
   "id": "db173258-82bf-4b34-86ce-be5d850e9e79",
   "metadata": {},
   "outputs": [],
   "source": []
  }
 ],
 "metadata": {
  "kernelspec": {
   "display_name": "Python 3 (ipykernel)",
   "language": "python",
   "name": "python3"
  },
  "language_info": {
   "codemirror_mode": {
    "name": "ipython",
    "version": 3
   },
   "file_extension": ".py",
   "mimetype": "text/x-python",
   "name": "python",
   "nbconvert_exporter": "python",
   "pygments_lexer": "ipython3",
   "version": "3.10.8"
  }
 },
 "nbformat": 4,
 "nbformat_minor": 5
}
